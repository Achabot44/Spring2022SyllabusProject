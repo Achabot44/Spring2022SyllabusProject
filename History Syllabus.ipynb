{
 "cells": [
  {
   "cell_type": "markdown",
   "metadata": {},
   "source": [
    "#  Persuasive Communication throughout History\n",
    "### Instructors: Alex Chabot, Marissa Salas, & Shelley Mancini\n",
    "\n",
    "| ENC 3221      |                       | Section Number: 0001 |           |\n",
    "|---------------|:---------------------:|:--------------------:|-----------|\n",
    "|       Office: | Zoom                  |        Credit Hours: | 3         |\n",
    "|        Email: | N/A                   |        Meeting Days: | T     |\n",
    "|        Phone: | N/A                   |      Class Location: | N/A       |\n",
    "| Office Hours: | Online by appointment | Class Meeting Hours: | 12-2:50 PM |"
   ]
  },
  {
   "cell_type": "markdown",
   "metadata": {},
   "source": [
    "### COURSE DESCRIPTION\n",
    "Trace the development of persuasive communication throughout history.  Topics include ancient rhetorical communications, political messaging, and advertising.  The course will explore rhetorical practices and implications of persuasive communication.\n",
    "Learning goals include:  \n",
    "1.\tDemonstrating skills in creating persuasive messages\n",
    "2.\tCritically evaluating persuasive arguments for credibility of the argument\n",
    "3.\tDemonstrating the ability to use evidence to support persuasive arguments\n",
    "4.\tRecognizing bias in communication intent\n",
    "5.\tUnderstanding the viral nature of persuasive messaging\n",
    "6.\tAddressing counterarguments\n",
    "\n",
    "### COURSE DETAILS\n",
    "Students are required to read, understand, and abide by all conditions for this course as established in this document and all other documents located on the course’s Webcourses@UCF page, including, but not limited to: \n",
    "•\tcourse protocols & policies \n",
    "•\tcourse assessment (grading) standards \n",
    "•\tcourse schedules \n",
    "•\tinstructor’s posted announcements (which may be used to modify this document)\n",
    "\n",
    "### FINANCIAL AID\n",
    "Faculty members are required to document students' academic activity at the beginning of each course. During the first class meeting, we will engage in a group discussion and you will be directed to an assignment.  Your participation in this discussion will be indicated in the Webcourses@UCF grade book.  \n",
    "THIRD-PARTY SOFTWARE AND FERPA\n",
    "During this course you may have the opportunity to use public online services and/or software applications, including third-party software. While some of these could be required assignments, you need not make any personally identifying information on a public site. Do not post or provide any private information about yourself or your classmates. Where appropriate you may use a pseudonym or nickname. Some written assignments posted publicly may require personal reflection/comments, but the assignments will not require you to disclose any personally identity-sensitive information. If you have any concerns about this, please contact the instructor.\n",
    "\n",
    "### VIRUSES, REDUNDANCY, AND PROTECTING YOUR WORK\n",
    "Your use of a reputable anti-virus program is a requirement for participation in this course.  It is your responsibility to ensure that you do not share infected files with your team members or upload an infected file when submitting your work.  Back up your files often through OneDrive or other program. Technical issues can and will happen, however, they are not a valid excuse for failing to submit assignments on time.  \n"
   ]
  },
  {
   "cell_type": "markdown",
   "metadata": {},
   "source": [
    "### ASSIGNMENTS AND EVALUATIONS\n",
    "\n",
    "### Attendance and Participation\n",
    "Students are required to attend each class session prepared to engage in informed discussion.\n",
    "\n",
    "### Seminar Leadership \n",
    "Students will be assigned one class session to lead discussion for a portion of the class.  Students will prepare a brief overview of the material covered in preparation for the class and will prepare a discussion guide which may consist of discussion questions and activities to be completed individually or in groups to further the discussion related to the readings and other material assigned for that class session.  Students will be evaluated on their ability to generate mindful discussion relevant to the covered topic(s).  \n",
    "\n",
    "### Individual Reflection \n",
    "Students will complete 1-2 page individual reflection assignments each week.  The reflection will evaluate how the material related to the learning goals identified above.\n",
    "\n",
    "### Final Project\n",
    "Students will complete a final project demonstrating persuasive communication.  Students may choose a paper or a video presentation.  The final project will not be accepted late.  \n"
   ]
  },
  {
   "cell_type": "markdown",
   "metadata": {},
   "source": [
    "### ASSESSMENT STANDARDS\n",
    "\n",
    "|     Course   Component                |     Weight    |\n",
    "|---------------------------------------|---------------|\n",
    "|     Attendance and Participation      |     10%       |\n",
    "|     Seminar Leadership                |     20%       |\n",
    "|     Individual Reflections            |     50%       |\n",
    "|     Final Project                     |     20%       |\n",
    "|     TOTAL                             |     100%      |"
   ]
  },
  {
   "cell_type": "markdown",
   "metadata": {},
   "source": [
    "Students will be assigned a course letter grade using the University’s grading scale. Letter grades will be assigned based on the course average, as follows:\n",
    "\n",
    "|     Course   Average    |     Letter   Grade    |\n",
    "|-------------------------|-----------------------|\n",
    "|     90% or higher       |     A                 |\n",
    "|     80-89.99%           |     B                 |\n",
    "|     70-79.99%           |     C                 |\n",
    "|     60-69.99%           |     D                 |\n",
    "|     Less than 60%       |     F                 |\n",
    "\n",
    "Extra credit opportunities will not be provided. "
   ]
  },
  {
   "cell_type": "markdown",
   "metadata": {},
   "source": [
    "# ATTENDANCE POLICY\n",
    "\n",
    "## UCF Undergraduate Catalog Attendance and Religious Observances Policy\n",
    "Under University policy, students are not authorized to attend class unless they are on the class roll, or have been approved to audit and have paid audit fees. Students are responsible for satisfying the entire range of academic objectives as defined by the course instructor and ensuring that their class work and attendance are satisfactory. Students should understand that attendance policies and procedures vary among instructors and academic units, and they must observe any special attendance regulations stipulated by their college, school, department, program, or instructor. Reasons for acceptable absences may include illness, serious family emergencies, special curricular requirements (e.g., judging trips, field trips, and professional conferences), military obligations, severe weather conditions, and religious holidays. \n",
    "\n",
    "Students also should be excused for participation in official University-sponsored activities, such as music performances, athletic competition, or debate. Students chosen for such events, including intercollegiate athletics, band, choir, and academically related programs, shall be listed on a “Program Verification” form. Program Directors shall provide each student with a copy of this form. It is the student’s responsibility to present a copy of this form to the faculty member(s) responsible for the class from which the student will be absent. This verification is to be provided prior to the class period whenever possible and no later than the first class following the event. A copy of the form listing students selected to represent the University and signed by the Program Director shall be filed with the Office of Student Rights and Responsibilities (FC 155). If further verification is needed, contact the Office of Student Rights and Responsibilities (FC 142; 407-823-6960) or, for athletic events only, Academic Services for Student-Athletes, Wayne Densch Sports Center, 103A; 407-823-5896. \n",
    "\n",
    "Absences from classes for court-imposed legal obligations (e.g., jury duty and subpoenas) must be excused. The student may offer other sound reasons. When absences threaten a student’s satisfactory completion of a course, the instructor may report the absence to the appropriate Dean of the student’s college/school and may choose to call upon the college/school office to request additional information and insight into the significance of or reason for the absences. \n",
    "\n",
    "It is the practice of the University of Central Florida to reasonably accommodate the religious observances, practices, and beliefs of individuals in regard to admissions, class attendance, and the scheduling of examinations and work assignments. A student who desires to observe a religious holy day of his or her religious faith must notify all of his/her instructors at the beginning of the term to be excused from classes to observe the religious holy day. The student will be held responsible for any material covered during the excused absence, but will be permitted a reasonable amount of time to complete any work missed. Where practicable, major examinations, major assignments, and University ceremonies will not be scheduled on a major religious holy day. Students who are absent from academic or social activities because of religious observances will not be penalized. A student who believes that he/she has been unreasonably denied an educational benefit due to his/her religious belief or practices may seek redress in accordance with the Student Grievance Procedure, as listed in The Golden Rule.\n"
   ]
  },
  {
   "cell_type": "markdown",
   "metadata": {},
   "source": [
    "## COURSE ACCESSIBILITY STATEMENT\n",
    "The University of Central Florida is committed to providing reasonable accommodations for all persons with disabilities. This syllabus is available in alternate formats upon request. Students with disabilities who need accommodations in this course must contact the instructor at the beginning of the semester to discuss needed accommodations. Students should also connect with Student Accessibility Services (SAS) <http://sas.sdes.ucf.edu/> (Ferrell Commons 185, sas@ucf.edu, phone 407-823-2371). Through Student Accessibility Services, a Course Accessibility Letter may be created and sent to professors, which informs faculty of potential access and accommodations that might be reasonable. Determining reasonable access and accommodations requires consideration of the course design, course learning objectives and the individual academic and course barriers experienced by the student.\n",
    "\n",
    "Covid 19 Update:  Accommodations may need to be added or adjusted should this course shift from an on-campus to a remote format.  Students with disabilities should speak with their instructor and should contact sas@ucf.edu to discuss specific accommodations for this or other courses.\n",
    "    "
   ]
  },
  {
   "cell_type": "markdown",
   "metadata": {},
   "source": [
    "## CAMPUS SAFETY STATEMENT\n",
    "Emergencies on campus are rare, but if one should arise during class, everyone needs to work together. Students should be aware of their surroundings and familiar with some basic safety and security concepts.\n",
    "-\tIn case of an emergency, dial 911 for assistance.\n",
    "-\tEvery UCF classroom contains an emergency procedure guide posted on a wall near the door. Students should make a note of the guide’s physical location and review the online version at http://emergency.ucf.edu/emergency_guide.html\n",
    "-\tStudents should know the evacuation routes from each of their classrooms and have a plan for finding safety in case of an emergency.\n",
    "-\tIf there is a medical emergency during class, students may need to access a first-aid kit or AED (Automated External Defibrillator). To learn where those are located, see http://www.ehs.ucf.edu/AEDlocations-UCF (click on link from menu on left).\n",
    "-\tTo stay informed about emergency situations, students can sign up to receive UCF text alerts by going to https://my.ucf.edu and logging in. Click on “Student Self Service” located on the left side of the screen in the toolbar, scroll down to the blue “Personal Information” heading on the Student Center screen, click on “UCF Alert”, fill out the information, including e-mail address, cell phone number, and cell phone provider, click “Apply” to save the changes, and then click “OK.”\n",
    "-\tStudents with special needs related to emergency situations should speak with their instructors outside of class.\n",
    "-\tTo learn about how to manage an active-shooter situation on campus or elsewhere, consider viewing this video (https://youtu.be/NIKYajEx4pk).\n"
   ]
  },
  {
   "cell_type": "markdown",
   "metadata": {},
   "source": [
    "## COPYRIGHT\n",
    "This course may contain copyright protected materials such as audio or video clips, images, text materials, etc. These items are being used with regard to the Fair Use doctrine in order to enhance the learning environment. Please do not copy, duplicate, download or distribute these items. The use of these materials is strictly reserved for this online classroom environment and your use only. All copyright materials are credited to the copyright holder. \n"
   ]
  },
  {
   "cell_type": "markdown",
   "metadata": {},
   "source": [
    "## ETHICAL BEHAVIOR\n",
    "All students are expected to follow the UCF creed: Integrity, scholarship, community, creativity, and excellence are the core values that guide our conduct, performance, and decisions. Integrity: I will practice and defend academic and personal honesty. Scholarship: I will cherish and honor learning as a fundamental purpose of my membership in the UCF community. Community: I will promote an open and supportive campus environment by respecting the rights and contributions of every individual. Creativity: I will use my talents to enrich the human experience. Excellence: I will strive toward the highest standards of performance in any endeavor I undertake. Ethics: As reflected in the UCF creed, integrity and scholarship are core values that should guide our conduct and decisions as members of the IB program. Plagiarism and cheating contradict these values, and so are very serious academic offenses. Penalties can include a failing grade in an assignment or in the course, or suspension or expulsion from the university. Students are expected to familiarize themselves with and follow the University’s Rules of Conduct (see http://www.osc.sdes.ucf.edu/). \n",
    "\n",
    "Academic dishonesty in any form will not be tolerated. If you are uncertain as to what constitutes academic dishonesty, please consult The Golden Rule, the University of Central Florida's Student Handbook (http://www.goldenrule.sdes.ucf.edu/) for further details. As in all University courses, The Golden Rule Rules of Conduct will be applied. Violations of these rules will result in a record of the infraction being placed in your file and receiving a zero on the work in question AT A MINIMUM. At the instructor’s discretion, you may also receive a failing grade for the course. Confirmation of such incidents can also result in expulsion from the University. UCF faculty members have a responsibility for your education and the value of a UCF degree, and so seek to prevent unethical behavior and when necessary respond to infringements of academic integrity. Penalties can include a failing grade in an assignment or in the course, suspension or expulsion from the university, and/or a \"Z Designation\" on a student's official transcript indicating academic dishonesty, where the final grade for this course will be preceded by the letter Z. For more information about the Z Designation, see http://z.ucf.edu/.\n",
    "If a student signs in for a class at which she or he is not physically present, he or she will be counted as absent for the class. In addition, he or she will be assessed an additional class absence, and an official incident report describing the cheating will be filed with the university. If a student assists another student in signing in for a class at which she or he is not physically present (e.g., by providing a sign in code or writing/signing the missing student’s name on a physical roll sheet) the student will be assessed a class absence, and an official incident report describing the cheating will be filed with the university. \n",
    "\n",
    "In order to learn, we must be open to the views of people different from ourselves. Each and every voice in the classroom is important and brings with it a wealth of experiences, values and beliefs. In this time we share together over the semester, please honor the uniqueness of your fellow classmates, and appreciate the opportunity we have to learn from each other. Please respect your fellow students' opinions and refrain from personal attacks or demeaning comments of any kind.\n"
   ]
  },
  {
   "cell_type": "markdown",
   "metadata": {},
   "source": [
    "## FLORIDA INTELLECTUAL FREEDOM LAW\n",
    "Students may, without prior notice, record video or audio of a class lecture for a class in which the student is enrolled for their own personal educational use.  A class lecture is defined as a formal or methodical oral presentation as part of a university course intended to present information or teach students about a particular subject. Recording classroom activities other than class lectures, including but not limited to lab sessions, student presentations (whether individually or part of a group), class discussion (except when incidental to and incorporated within a class lecture), clinical presentations such as patient history, academic exercises involving student participation, test or examination administrations, field trips, and private conversations is prohibited. Recordings may not be used as a substitute for class participation and class attendance, and may not be published or shared without the written consent of the faculty member. Failure to adhere to these requirements may constitute a violation of the University’s Student Code of Conduct as described in the Golden Rule.\n"
   ]
  },
  {
   "cell_type": "markdown",
   "metadata": {},
   "source": [
    "## DISCLAIMER \n",
    "The instructor reserves the right to make changes to the syllabus at any time during the course.  \n"
   ]
  }
 ],
 "metadata": {
  "kernelspec": {
   "display_name": "Python 3",
   "language": "python",
   "name": "python3"
  },
  "language_info": {
   "codemirror_mode": {
    "name": "ipython",
    "version": 3
   },
   "file_extension": ".py",
   "mimetype": "text/x-python",
   "name": "python",
   "nbconvert_exporter": "python",
   "pygments_lexer": "ipython3",
   "version": "3.8.3"
  }
 },
 "nbformat": 4,
 "nbformat_minor": 4
}
